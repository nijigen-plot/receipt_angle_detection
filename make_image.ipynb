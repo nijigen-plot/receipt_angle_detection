{
 "cells": [
  {
   "cell_type": "code",
   "execution_count": 1,
   "metadata": {},
   "outputs": [
    {
     "name": "stderr",
     "output_type": "stream",
     "text": [
      "C:\\Users\\quark\\Anaconda3\\envs\\myenv\\lib\\site-packages\\numpy\\_distributor_init.py:32: UserWarning: loaded more than 1 DLL from .libs:\n",
      "C:\\Users\\quark\\Anaconda3\\envs\\myenv\\lib\\site-packages\\numpy\\.libs\\libopenblas.NOIJJG62EMASZI6NYURL6JBKM4EVBGM7.gfortran-win_amd64.dll\n",
      "C:\\Users\\quark\\Anaconda3\\envs\\myenv\\lib\\site-packages\\numpy\\.libs\\libopenblas.PYQHXLVVQ7VESDPUVUADXEVJOBGHJPAY.gfortran-win_amd64.dll\n",
      "  stacklevel=1)\n"
     ]
    }
   ],
   "source": [
    "import numpy as np\n",
    "from PIL import Image, ImageDraw\n",
    "from IPython.display import Image as Image_\n",
    "import math"
   ]
  },
  {
   "cell_type": "markdown",
   "metadata": {},
   "source": [
    "## 画像にランダムなノイズを混ぜたいので、試す"
   ]
  },
  {
   "cell_type": "code",
   "execution_count": 9,
   "metadata": {},
   "outputs": [],
   "source": [
    "import cv2\n",
    "import matplotlib.pyplot as plt"
   ]
  },
  {
   "cell_type": "code",
   "execution_count": 82,
   "metadata": {},
   "outputs": [
    {
     "data": {
      "image/png": "[encoded data removed]",
      "text/plain": [
       "<Figure size 432x288 with 1 Axes>"
      ]
     },
     "metadata": {
      "needs_background": "light"
     },
     "output_type": "display_data"
    },
    {
     "data": {
      "image/png": "[encoded data removed]",
      "text/plain": [
       "<Figure size 432x288 with 1 Axes>"
      ]
     },
     "metadata": {
      "needs_background": "light"
     },
     "output_type": "display_data"
    }
   ],
   "source": [
    "img = Image.new('L', (50, 50), 128)\n",
    "img.save('random_noise_test.png')\n",
    "img = cv2.imread('random_noise_test.png')\n",
    "plt.imshow(img, cmap='Greys')\n",
    "plt.show()\n",
    "\n",
    "pts_x = np.random.randint(0, 50, 800)\n",
    "pts_y = np.random.randint(0, 50, 800)\n",
    "\n",
    "for i in range(len(pts_y)):\n",
    "    img[(pts_y[i], pts_x[i])] = np.random.randint(0, 256)\n",
    "plt.imshow(img, cmap='Greys')\n",
    "plt.show()"
   ]
  },
  {
   "cell_type": "markdown",
   "metadata": {},
   "source": [
    "## 一旦レシートの下の画像にこれを差し込んだらどう？"
   ]
  },
  {
   "cell_type": "code",
   "execution_count": 192,
   "metadata": {},
   "outputs": [
    {
     "data": {
      "image/png": "[encoded data removed]",
      "text/plain": [
       "<IPython.core.display.Image object>"
      ]
     },
     "execution_count": 192,
     "metadata": {},
     "output_type": "execute_result"
    }
   ],
   "source": [
    "#試しフェーズ\n",
    "def makeRectangle(l, w, theta, offset=(0,0)):\n",
    "    c, s = math.cos(theta), math.sin(theta)\n",
    "    rectCoords = [(l/2.0, w/2.0), (l/2.0, -w/2.0), (-l/2.0, -w/2.0), (-l/2.0, w/2.0)]\n",
    "    return [(c*x-s*y+offset[0], s*x+c*y+offset[1]) for (x,y) in rectCoords]\n",
    "\n",
    "L=50; W=50\n",
    "\n",
    "random_color_base = np.random.randint(0, 255) # MAX 254\n",
    "random_color_rectangle = np.random.randint(random_color_base + 1, 256) #MAX 255 少なくともbaseカラーよりは白い\n",
    "\n",
    "image = Image.new(\"L\", (L, W), random_color_base ) #8bit 白黒 0 = 黒 255 = 白\n",
    "image_1 = np.array(image, dtype=np.uint8)\n",
    "pts_x = np.random.randint(0, 50, 800)\n",
    "pts_y = np.random.randint(0, 50, 800)\n",
    "\n",
    "for i in range(len(pts_y)):\n",
    "    image_1[(pts_y[i], pts_x[i])] = np.random.randint(0, 256)\n",
    "image_2 = Image.fromarray(image_1)\n",
    "draw = ImageDraw.Draw(image_2)\n",
    "\n",
    "angle = np.random.randint(-45, 46)\n",
    "size = np.random.randint(70, 131) / 100\n",
    "vertices = makeRectangle(12 * size, 40 * size, angle *math.pi/180, offset=(L/2, W/2))\n",
    "draw.polygon(vertices, fill= random_color_rectangle)\n",
    "image_2.save(f\"test.png\")\n",
    "Image_('test.png')"
   ]
  },
  {
   "cell_type": "code",
   "execution_count": 193,
   "metadata": {},
   "outputs": [
    {
     "name": "stderr",
     "output_type": "stream",
     "text": [
      "100%|█████████████████████████████████████████████████████████████████████████| 350000/350000 [12:30<00:00, 466.05it/s]\n"
     ]
    }
   ],
   "source": [
    "#生成フェーズ\n",
    "angle_list = []\n",
    "array_list = []\n",
    "L=50; W=50\n",
    "from tqdm import tqdm\n",
    "for i in tqdm(range(350000)): #作成枚数\n",
    "    random_color_base = np.random.randint(0, 255) # MAX 254\n",
    "    random_color_rectangle = np.random.randint(random_color_base + 1, 256) #MAX 255 少なくともbaseカラーよりは白い\n",
    "\n",
    "    image = Image.new(\"L\", (L, W), random_color_base ) #8bit 白黒 0 = 黒 255 = 白\n",
    "    image_1 = np.array(image, dtype=np.uint8)\n",
    "    pts_x = np.random.randint(0, 50, 800)\n",
    "    pts_y = np.random.randint(0, 50, 800)\n",
    "    for i in range(len(pts_y)):\n",
    "        image_1[(pts_y[i], pts_x[i])] = np.random.randint(0, 256)\n",
    "    image_2 = Image.fromarray(image_1)\n",
    "    draw = ImageDraw.Draw(image_2)\n",
    "\n",
    "    angle = np.random.randint(-45, 46)\n",
    "    size = np.random.randint(70, 131) / 100\n",
    "    vertices = makeRectangle(12 * size, 40 * size, angle *math.pi/180, offset=(L/2, W/2))\n",
    "    draw.polygon(vertices, fill= random_color_rectangle)\n",
    "    angle_list.append(angle)\n",
    "    array_list.append(np.array(image_2))\n",
    "    #画像は指定のディレクトリに保存\n",
    "    #image.save(f\"photos/random_rectangle_{i}.png\")\n",
    "\n",
    "#これで保存可能\n",
    "#MNISTみたいに画像保存して画像を配列にして角度ラベルと一緒に保存すれば良いんじゃないか\n",
    "np.savez_compressed('learning_photo_data', np.array(array_list), np.array(angle_list))"
   ]
  }
 ],
 "metadata": {
  "kernelspec": {
   "display_name": "Python 3",
   "language": "python",
   "name": "python3"
  },
  "language_info": {
   "codemirror_mode": {
    "name": "ipython",
    "version": 3
   },
   "file_extension": ".py",
   "mimetype": "text/x-python",
   "name": "python",
   "nbconvert_exporter": "python",
   "pygments_lexer": "ipython3",
   "version": "3.7.6"
  }
 },
 "nbformat": 4,
 "nbformat_minor": 4
}
